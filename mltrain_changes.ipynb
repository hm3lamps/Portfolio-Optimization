{
 "cells": [
  {
   "cell_type": "code",
   "execution_count": 0,
   "metadata": {
    "colab": {
     "base_uri": "https://localhost:8080/",
     "height": 934
    },
    "colab_type": "code",
    "executionInfo": {
     "elapsed": 253431,
     "status": "error",
     "timestamp": 1545384607472,
     "user": {
      "displayName": "Hardik Maheshwari",
      "photoUrl": "https://lh3.googleusercontent.com/-Y-Bk9UtFi3o/AAAAAAAAAAI/AAAAAAAAAUI/0UFwmsBma5Q/s64/photo.jpg",
      "userId": "13286134525565054597"
     },
     "user_tz": -330
    },
    "id": "syV7NucpOz6s",
    "outputId": "825b1429-1b24-46c7-d200-fb889d8328da"
   },
   "outputs": [
    {
     "name": "stdout",
     "output_type": "stream",
     "text": [
      "E: Package 'python-software-properties' has no installation candidate\n"
     ]
    },
    {
     "ename": "KeyboardInterrupt",
     "evalue": "ignored",
     "output_type": "error",
     "traceback": [
      "\u001b[0;31m---------------------------------------------------------------------------\u001b[0m",
      "\u001b[0;31mKeyboardInterrupt\u001b[0m                         Traceback (most recent call last)",
      "\u001b[0;32m/usr/local/lib/python3.6/dist-packages/ipykernel/kernelbase.py\u001b[0m in \u001b[0;36m_input_request\u001b[0;34m(self, prompt, ident, parent, password)\u001b[0m\n\u001b[1;32m    729\u001b[0m             \u001b[0;32mtry\u001b[0m\u001b[0;34m:\u001b[0m\u001b[0;34m\u001b[0m\u001b[0;34m\u001b[0m\u001b[0m\n\u001b[0;32m--> 730\u001b[0;31m                 \u001b[0mident\u001b[0m\u001b[0;34m,\u001b[0m \u001b[0mreply\u001b[0m \u001b[0;34m=\u001b[0m \u001b[0mself\u001b[0m\u001b[0;34m.\u001b[0m\u001b[0msession\u001b[0m\u001b[0;34m.\u001b[0m\u001b[0mrecv\u001b[0m\u001b[0;34m(\u001b[0m\u001b[0mself\u001b[0m\u001b[0;34m.\u001b[0m\u001b[0mstdin_socket\u001b[0m\u001b[0;34m,\u001b[0m \u001b[0;36m0\u001b[0m\u001b[0;34m)\u001b[0m\u001b[0;34m\u001b[0m\u001b[0;34m\u001b[0m\u001b[0m\n\u001b[0m\u001b[1;32m    731\u001b[0m             \u001b[0;32mexcept\u001b[0m \u001b[0mException\u001b[0m\u001b[0;34m:\u001b[0m\u001b[0;34m\u001b[0m\u001b[0;34m\u001b[0m\u001b[0m\n",
      "\u001b[0;32m/usr/local/lib/python3.6/dist-packages/jupyter_client/session.py\u001b[0m in \u001b[0;36mrecv\u001b[0;34m(self, socket, mode, content, copy)\u001b[0m\n\u001b[1;32m    802\u001b[0m         \u001b[0;32mtry\u001b[0m\u001b[0;34m:\u001b[0m\u001b[0;34m\u001b[0m\u001b[0;34m\u001b[0m\u001b[0m\n\u001b[0;32m--> 803\u001b[0;31m             \u001b[0mmsg_list\u001b[0m \u001b[0;34m=\u001b[0m \u001b[0msocket\u001b[0m\u001b[0;34m.\u001b[0m\u001b[0mrecv_multipart\u001b[0m\u001b[0;34m(\u001b[0m\u001b[0mmode\u001b[0m\u001b[0;34m,\u001b[0m \u001b[0mcopy\u001b[0m\u001b[0;34m=\u001b[0m\u001b[0mcopy\u001b[0m\u001b[0;34m)\u001b[0m\u001b[0;34m\u001b[0m\u001b[0;34m\u001b[0m\u001b[0m\n\u001b[0m\u001b[1;32m    804\u001b[0m         \u001b[0;32mexcept\u001b[0m \u001b[0mzmq\u001b[0m\u001b[0;34m.\u001b[0m\u001b[0mZMQError\u001b[0m \u001b[0;32mas\u001b[0m \u001b[0me\u001b[0m\u001b[0;34m:\u001b[0m\u001b[0;34m\u001b[0m\u001b[0;34m\u001b[0m\u001b[0m\n",
      "\u001b[0;32m/usr/local/lib/python3.6/dist-packages/zmq/sugar/socket.py\u001b[0m in \u001b[0;36mrecv_multipart\u001b[0;34m(self, flags, copy, track)\u001b[0m\n\u001b[1;32m    465\u001b[0m         \"\"\"\n\u001b[0;32m--> 466\u001b[0;31m         \u001b[0mparts\u001b[0m \u001b[0;34m=\u001b[0m \u001b[0;34m[\u001b[0m\u001b[0mself\u001b[0m\u001b[0;34m.\u001b[0m\u001b[0mrecv\u001b[0m\u001b[0;34m(\u001b[0m\u001b[0mflags\u001b[0m\u001b[0;34m,\u001b[0m \u001b[0mcopy\u001b[0m\u001b[0;34m=\u001b[0m\u001b[0mcopy\u001b[0m\u001b[0;34m,\u001b[0m \u001b[0mtrack\u001b[0m\u001b[0;34m=\u001b[0m\u001b[0mtrack\u001b[0m\u001b[0;34m)\u001b[0m\u001b[0;34m]\u001b[0m\u001b[0;34m\u001b[0m\u001b[0;34m\u001b[0m\u001b[0m\n\u001b[0m\u001b[1;32m    467\u001b[0m         \u001b[0;31m# have first part already, only loop while more to receive\u001b[0m\u001b[0;34m\u001b[0m\u001b[0;34m\u001b[0m\u001b[0;34m\u001b[0m\u001b[0m\n",
      "\u001b[0;32mzmq/backend/cython/socket.pyx\u001b[0m in \u001b[0;36mzmq.backend.cython.socket.Socket.recv\u001b[0;34m()\u001b[0m\n",
      "\u001b[0;32mzmq/backend/cython/socket.pyx\u001b[0m in \u001b[0;36mzmq.backend.cython.socket.Socket.recv\u001b[0;34m()\u001b[0m\n",
      "\u001b[0;32mzmq/backend/cython/socket.pyx\u001b[0m in \u001b[0;36mzmq.backend.cython.socket._recv_copy\u001b[0;34m()\u001b[0m\n",
      "\u001b[0;32m/usr/local/lib/python3.6/dist-packages/zmq/backend/cython/checkrc.pxd\u001b[0m in \u001b[0;36mzmq.backend.cython.checkrc._check_rc\u001b[0;34m()\u001b[0m\n",
      "\u001b[0;31mKeyboardInterrupt\u001b[0m: ",
      "\nDuring handling of the above exception, another exception occurred:\n",
      "\u001b[0;31mKeyboardInterrupt\u001b[0m                         Traceback (most recent call last)",
      "\u001b[0;32m<ipython-input-146-75a4d519ca25>\u001b[0m in \u001b[0;36m<module>\u001b[0;34m()\u001b[0m\n\u001b[1;32m      9\u001b[0m \u001b[0;32mimport\u001b[0m \u001b[0mgetpass\u001b[0m\u001b[0;34m\u001b[0m\u001b[0;34m\u001b[0m\u001b[0m\n\u001b[1;32m     10\u001b[0m \u001b[0mget_ipython\u001b[0m\u001b[0;34m(\u001b[0m\u001b[0;34m)\u001b[0m\u001b[0;34m.\u001b[0m\u001b[0msystem\u001b[0m\u001b[0;34m(\u001b[0m\u001b[0;34m'google-drive-ocamlfuse -headless -id={creds.client_id} -secret={creds.client_secret} < /dev/null 2>&1 | grep URL'\u001b[0m\u001b[0;34m)\u001b[0m\u001b[0;34m\u001b[0m\u001b[0;34m\u001b[0m\u001b[0m\n\u001b[0;32m---> 11\u001b[0;31m \u001b[0mvcode\u001b[0m \u001b[0;34m=\u001b[0m \u001b[0mgetpass\u001b[0m\u001b[0;34m.\u001b[0m\u001b[0mgetpass\u001b[0m\u001b[0;34m(\u001b[0m\u001b[0;34m)\u001b[0m\u001b[0;34m\u001b[0m\u001b[0;34m\u001b[0m\u001b[0m\n\u001b[0m\u001b[1;32m     12\u001b[0m \u001b[0mget_ipython\u001b[0m\u001b[0;34m(\u001b[0m\u001b[0;34m)\u001b[0m\u001b[0;34m.\u001b[0m\u001b[0msystem\u001b[0m\u001b[0;34m(\u001b[0m\u001b[0;34m'echo {vcode} | google-drive-ocamlfuse -headless -id={creds.client_id} -secret={creds.client_secret}'\u001b[0m\u001b[0;34m)\u001b[0m\u001b[0;34m\u001b[0m\u001b[0;34m\u001b[0m\u001b[0m\n",
      "\u001b[0;32m/usr/local/lib/python3.6/dist-packages/ipykernel/kernelbase.py\u001b[0m in \u001b[0;36mgetpass\u001b[0;34m(self, prompt, stream)\u001b[0m\n\u001b[1;32m    686\u001b[0m             \u001b[0mself\u001b[0m\u001b[0;34m.\u001b[0m\u001b[0m_parent_ident\u001b[0m\u001b[0;34m,\u001b[0m\u001b[0;34m\u001b[0m\u001b[0;34m\u001b[0m\u001b[0m\n\u001b[1;32m    687\u001b[0m             \u001b[0mself\u001b[0m\u001b[0;34m.\u001b[0m\u001b[0m_parent_header\u001b[0m\u001b[0;34m,\u001b[0m\u001b[0;34m\u001b[0m\u001b[0;34m\u001b[0m\u001b[0m\n\u001b[0;32m--> 688\u001b[0;31m             \u001b[0mpassword\u001b[0m\u001b[0;34m=\u001b[0m\u001b[0;32mTrue\u001b[0m\u001b[0;34m,\u001b[0m\u001b[0;34m\u001b[0m\u001b[0;34m\u001b[0m\u001b[0m\n\u001b[0m\u001b[1;32m    689\u001b[0m         )\n\u001b[1;32m    690\u001b[0m \u001b[0;34m\u001b[0m\u001b[0m\n",
      "\u001b[0;32m/usr/local/lib/python3.6/dist-packages/ipykernel/kernelbase.py\u001b[0m in \u001b[0;36m_input_request\u001b[0;34m(self, prompt, ident, parent, password)\u001b[0m\n\u001b[1;32m    733\u001b[0m             \u001b[0;32mexcept\u001b[0m \u001b[0mKeyboardInterrupt\u001b[0m\u001b[0;34m:\u001b[0m\u001b[0;34m\u001b[0m\u001b[0;34m\u001b[0m\u001b[0m\n\u001b[1;32m    734\u001b[0m                 \u001b[0;31m# re-raise KeyboardInterrupt, to truncate traceback\u001b[0m\u001b[0;34m\u001b[0m\u001b[0;34m\u001b[0m\u001b[0;34m\u001b[0m\u001b[0m\n\u001b[0;32m--> 735\u001b[0;31m                 \u001b[0;32mraise\u001b[0m \u001b[0mKeyboardInterrupt\u001b[0m\u001b[0;34m\u001b[0m\u001b[0;34m\u001b[0m\u001b[0m\n\u001b[0m\u001b[1;32m    736\u001b[0m             \u001b[0;32melse\u001b[0m\u001b[0;34m:\u001b[0m\u001b[0;34m\u001b[0m\u001b[0;34m\u001b[0m\u001b[0m\n\u001b[1;32m    737\u001b[0m                 \u001b[0;32mbreak\u001b[0m\u001b[0;34m\u001b[0m\u001b[0;34m\u001b[0m\u001b[0m\n",
      "\u001b[0;31mKeyboardInterrupt\u001b[0m: "
     ]
    }
   ],
   "source": [
    "!apt-get install -y -qq software-properties-common python-software-properties module-init-tools\n",
    "!add-apt-repository -y ppa:alessandro-strada/ppa 2>&1 > /dev/null\n",
    "!apt-get update -qq 2>&1 > /dev/null\n",
    "!apt-get -y install -qq google-drive-ocamlfuse fuse\n",
    "from google.colab import auth\n",
    "auth.authenticate_user()\n",
    "from oauth2client.client import GoogleCredentials\n",
    "creds = GoogleCredentials.get_application_default()\n",
    "import getpass\n",
    "!google-drive-ocamlfuse -headless -id={creds.client_id} -secret={creds.client_secret} < /dev/null 2>&1 | grep URL\n",
    "vcode = getpass.getpass()\n",
    "!echo {vcode} | google-drive-ocamlfuse -headless -id={creds.client_id} -secret={creds.client_secret}"
   ]
  },
  {
   "cell_type": "code",
   "execution_count": 0,
   "metadata": {
    "colab": {
     "base_uri": "https://localhost:8080/",
     "height": 50
    },
    "colab_type": "code",
    "executionInfo": {
     "elapsed": 11577,
     "status": "ok",
     "timestamp": 1545398190927,
     "user": {
      "displayName": "Hardik Maheshwari",
      "photoUrl": "https://lh3.googleusercontent.com/-Y-Bk9UtFi3o/AAAAAAAAAAI/AAAAAAAAAUI/0UFwmsBma5Q/s64/photo.jpg",
      "userId": "13286134525565054597"
     },
     "user_tz": -330
    },
    "id": "sYkJ1nzzO78Y",
    "outputId": "def879c8-dea5-4de3-b154-2cf2b42f4b07"
   },
   "outputs": [
    {
     "name": "stdout",
     "output_type": "stream",
     "text": [
      "fuse: mountpoint is not empty\n",
      "fuse: if you are sure this is safe, use the 'nonempty' mount option\n"
     ]
    }
   ],
   "source": [
    "!mkdir -p drive\n",
    "!google-drive-ocamlfuse drive"
   ]
  },
  {
   "cell_type": "code",
   "execution_count": 0,
   "metadata": {
    "colab": {},
    "colab_type": "code",
    "collapsed": true,
    "id": "uZYburkQPcRi"
   },
   "outputs": [],
   "source": [
    "import pandas as pd\n",
    "data = pd.read_csv(\"drive/colab/data.csv\")"
   ]
  },
  {
   "cell_type": "code",
   "execution_count": 0,
   "metadata": {
    "colab": {
     "base_uri": "https://localhost:8080/",
     "height": 195
    },
    "colab_type": "code",
    "executionInfo": {
     "elapsed": 1447,
     "status": "ok",
     "timestamp": 1545400520624,
     "user": {
      "displayName": "Hardik Maheshwari",
      "photoUrl": "https://lh3.googleusercontent.com/-Y-Bk9UtFi3o/AAAAAAAAAAI/AAAAAAAAAUI/0UFwmsBma5Q/s64/photo.jpg",
      "userId": "13286134525565054597"
     },
     "user_tz": -330
    },
    "id": "6uii2xzTPn6P",
    "outputId": "f04b03fa-aa1a-48c9-e343-776718518558"
   },
   "outputs": [
    {
     "data": {
      "text/html": [
       "<div>\n",
       "<style scoped>\n",
       "    .dataframe tbody tr th:only-of-type {\n",
       "        vertical-align: middle;\n",
       "    }\n",
       "\n",
       "    .dataframe tbody tr th {\n",
       "        vertical-align: top;\n",
       "    }\n",
       "\n",
       "    .dataframe thead th {\n",
       "        text-align: right;\n",
       "    }\n",
       "</style>\n",
       "<table border=\"1\" class=\"dataframe\">\n",
       "  <thead>\n",
       "    <tr style=\"text-align: right;\">\n",
       "      <th></th>\n",
       "      <th>Unnamed: 0</th>\n",
       "      <th>CRET</th>\n",
       "      <th>mcap</th>\n",
       "      <th>EP</th>\n",
       "      <th>BP</th>\n",
       "      <th>CP</th>\n",
       "      <th>SP</th>\n",
       "      <th>ES</th>\n",
       "      <th>RET</th>\n",
       "      <th>REP</th>\n",
       "      <th>RBP</th>\n",
       "      <th>RCP</th>\n",
       "      <th>RSP</th>\n",
       "      <th>CTEF</th>\n",
       "      <th>PM1</th>\n",
       "      <th>BR2</th>\n",
       "      <th>VOL</th>\n",
       "      <th>TOT</th>\n",
       "      <th>MRV1</th>\n",
       "    </tr>\n",
       "  </thead>\n",
       "  <tbody>\n",
       "    <tr>\n",
       "      <th>0</th>\n",
       "      <td>0</td>\n",
       "      <td>0.011</td>\n",
       "      <td>5.43</td>\n",
       "      <td>-0.1806</td>\n",
       "      <td>0.0499</td>\n",
       "      <td>-0.0708</td>\n",
       "      <td>0.0051</td>\n",
       "      <td>0.608</td>\n",
       "      <td>0.022975</td>\n",
       "      <td>-1.9380</td>\n",
       "      <td>-0.0626</td>\n",
       "      <td>-0.2307</td>\n",
       "      <td>-0.4962</td>\n",
       "      <td>-0.3857</td>\n",
       "      <td>1.7010</td>\n",
       "      <td>0.0831</td>\n",
       "      <td>4</td>\n",
       "      <td>8001</td>\n",
       "      <td>0.0984</td>\n",
       "    </tr>\n",
       "    <tr>\n",
       "      <th>1</th>\n",
       "      <td>1</td>\n",
       "      <td>0.079</td>\n",
       "      <td>4.35</td>\n",
       "      <td>-0.0577</td>\n",
       "      <td>-0.0424</td>\n",
       "      <td>-0.0240</td>\n",
       "      <td>-0.0488</td>\n",
       "      <td>0.385</td>\n",
       "      <td>-0.004597</td>\n",
       "      <td>-0.0982</td>\n",
       "      <td>0.0016</td>\n",
       "      <td>-0.0670</td>\n",
       "      <td>-0.1363</td>\n",
       "      <td>-0.3857</td>\n",
       "      <td>0.8866</td>\n",
       "      <td>0.0831</td>\n",
       "      <td>2</td>\n",
       "      <td>8001</td>\n",
       "      <td>0.0984</td>\n",
       "    </tr>\n",
       "    <tr>\n",
       "      <th>2</th>\n",
       "      <td>2</td>\n",
       "      <td>-0.093</td>\n",
       "      <td>9.24</td>\n",
       "      <td>-0.0043</td>\n",
       "      <td>-0.0445</td>\n",
       "      <td>-0.0246</td>\n",
       "      <td>-0.0441</td>\n",
       "      <td>0.134</td>\n",
       "      <td>0.021353</td>\n",
       "      <td>-0.1462</td>\n",
       "      <td>-0.1461</td>\n",
       "      <td>-0.2011</td>\n",
       "      <td>-0.4251</td>\n",
       "      <td>-0.3857</td>\n",
       "      <td>-0.4077</td>\n",
       "      <td>0.0831</td>\n",
       "      <td>2</td>\n",
       "      <td>8001</td>\n",
       "      <td>0.0984</td>\n",
       "    </tr>\n",
       "    <tr>\n",
       "      <th>3</th>\n",
       "      <td>3</td>\n",
       "      <td>-0.087</td>\n",
       "      <td>9.88</td>\n",
       "      <td>0.0336</td>\n",
       "      <td>0.0189</td>\n",
       "      <td>0.0237</td>\n",
       "      <td>-0.0038</td>\n",
       "      <td>0.248</td>\n",
       "      <td>-0.004597</td>\n",
       "      <td>0.1583</td>\n",
       "      <td>0.3306</td>\n",
       "      <td>0.1436</td>\n",
       "      <td>1.6027</td>\n",
       "      <td>-0.3857</td>\n",
       "      <td>-0.8445</td>\n",
       "      <td>0.0831</td>\n",
       "      <td>2</td>\n",
       "      <td>8001</td>\n",
       "      <td>0.0984</td>\n",
       "    </tr>\n",
       "    <tr>\n",
       "      <th>4</th>\n",
       "      <td>4</td>\n",
       "      <td>-0.018</td>\n",
       "      <td>4.04</td>\n",
       "      <td>0.0711</td>\n",
       "      <td>-0.0013</td>\n",
       "      <td>0.0107</td>\n",
       "      <td>0.0733</td>\n",
       "      <td>-0.177</td>\n",
       "      <td>-0.002238</td>\n",
       "      <td>0.1180</td>\n",
       "      <td>0.3752</td>\n",
       "      <td>0.1169</td>\n",
       "      <td>0.9677</td>\n",
       "      <td>-0.3857</td>\n",
       "      <td>-1.0680</td>\n",
       "      <td>0.0831</td>\n",
       "      <td>9</td>\n",
       "      <td>8001</td>\n",
       "      <td>0.0984</td>\n",
       "    </tr>\n",
       "  </tbody>\n",
       "</table>\n",
       "</div>"
      ],
      "text/plain": [
       "   Unnamed: 0   CRET  mcap      EP      BP      CP      SP     ES       RET  \\\n",
       "0           0  0.011  5.43 -0.1806  0.0499 -0.0708  0.0051  0.608  0.022975   \n",
       "1           1  0.079  4.35 -0.0577 -0.0424 -0.0240 -0.0488  0.385 -0.004597   \n",
       "2           2 -0.093  9.24 -0.0043 -0.0445 -0.0246 -0.0441  0.134  0.021353   \n",
       "3           3 -0.087  9.88  0.0336  0.0189  0.0237 -0.0038  0.248 -0.004597   \n",
       "4           4 -0.018  4.04  0.0711 -0.0013  0.0107  0.0733 -0.177 -0.002238   \n",
       "\n",
       "      REP     RBP     RCP     RSP    CTEF     PM1     BR2  VOL   TOT    MRV1  \n",
       "0 -1.9380 -0.0626 -0.2307 -0.4962 -0.3857  1.7010  0.0831    4  8001  0.0984  \n",
       "1 -0.0982  0.0016 -0.0670 -0.1363 -0.3857  0.8866  0.0831    2  8001  0.0984  \n",
       "2 -0.1462 -0.1461 -0.2011 -0.4251 -0.3857 -0.4077  0.0831    2  8001  0.0984  \n",
       "3  0.1583  0.3306  0.1436  1.6027 -0.3857 -0.8445  0.0831    2  8001  0.0984  \n",
       "4  0.1180  0.3752  0.1169  0.9677 -0.3857 -1.0680  0.0831    9  8001  0.0984  "
      ]
     },
     "execution_count": 74,
     "metadata": {
      "tags": []
     },
     "output_type": "execute_result"
    }
   ],
   "source": [
    "data.head()"
   ]
  },
  {
   "cell_type": "code",
   "execution_count": 0,
   "metadata": {
    "colab": {},
    "colab_type": "code",
    "collapsed": true,
    "id": "nCLXGNEvQPZR"
   },
   "outputs": [],
   "source": [
    "data_train =data.drop([\"Unnamed: 0\", \"VOL\", \"TOT\", \"MRV1\"], axis=1)"
   ]
  },
  {
   "cell_type": "code",
   "execution_count": 0,
   "metadata": {
    "colab": {
     "base_uri": "https://localhost:8080/",
     "height": 195
    },
    "colab_type": "code",
    "executionInfo": {
     "elapsed": 1113,
     "status": "ok",
     "timestamp": 1545400525568,
     "user": {
      "displayName": "Hardik Maheshwari",
      "photoUrl": "https://lh3.googleusercontent.com/-Y-Bk9UtFi3o/AAAAAAAAAAI/AAAAAAAAAUI/0UFwmsBma5Q/s64/photo.jpg",
      "userId": "13286134525565054597"
     },
     "user_tz": -330
    },
    "id": "v7l4dbuDRDB0",
    "outputId": "4fe2550e-9e36-45f2-e332-ceb44433afa3"
   },
   "outputs": [
    {
     "data": {
      "text/html": [
       "<div>\n",
       "<style scoped>\n",
       "    .dataframe tbody tr th:only-of-type {\n",
       "        vertical-align: middle;\n",
       "    }\n",
       "\n",
       "    .dataframe tbody tr th {\n",
       "        vertical-align: top;\n",
       "    }\n",
       "\n",
       "    .dataframe thead th {\n",
       "        text-align: right;\n",
       "    }\n",
       "</style>\n",
       "<table border=\"1\" class=\"dataframe\">\n",
       "  <thead>\n",
       "    <tr style=\"text-align: right;\">\n",
       "      <th></th>\n",
       "      <th>CRET</th>\n",
       "      <th>mcap</th>\n",
       "      <th>EP</th>\n",
       "      <th>BP</th>\n",
       "      <th>CP</th>\n",
       "      <th>SP</th>\n",
       "      <th>ES</th>\n",
       "      <th>RET</th>\n",
       "      <th>REP</th>\n",
       "      <th>RBP</th>\n",
       "      <th>RCP</th>\n",
       "      <th>RSP</th>\n",
       "      <th>CTEF</th>\n",
       "      <th>PM1</th>\n",
       "      <th>BR2</th>\n",
       "    </tr>\n",
       "  </thead>\n",
       "  <tbody>\n",
       "    <tr>\n",
       "      <th>0</th>\n",
       "      <td>0.011</td>\n",
       "      <td>5.43</td>\n",
       "      <td>-0.1806</td>\n",
       "      <td>0.0499</td>\n",
       "      <td>-0.0708</td>\n",
       "      <td>0.0051</td>\n",
       "      <td>0.608</td>\n",
       "      <td>0.022975</td>\n",
       "      <td>-1.9380</td>\n",
       "      <td>-0.0626</td>\n",
       "      <td>-0.2307</td>\n",
       "      <td>-0.4962</td>\n",
       "      <td>-0.3857</td>\n",
       "      <td>1.7010</td>\n",
       "      <td>0.0831</td>\n",
       "    </tr>\n",
       "    <tr>\n",
       "      <th>1</th>\n",
       "      <td>0.079</td>\n",
       "      <td>4.35</td>\n",
       "      <td>-0.0577</td>\n",
       "      <td>-0.0424</td>\n",
       "      <td>-0.0240</td>\n",
       "      <td>-0.0488</td>\n",
       "      <td>0.385</td>\n",
       "      <td>-0.004597</td>\n",
       "      <td>-0.0982</td>\n",
       "      <td>0.0016</td>\n",
       "      <td>-0.0670</td>\n",
       "      <td>-0.1363</td>\n",
       "      <td>-0.3857</td>\n",
       "      <td>0.8866</td>\n",
       "      <td>0.0831</td>\n",
       "    </tr>\n",
       "    <tr>\n",
       "      <th>2</th>\n",
       "      <td>-0.093</td>\n",
       "      <td>9.24</td>\n",
       "      <td>-0.0043</td>\n",
       "      <td>-0.0445</td>\n",
       "      <td>-0.0246</td>\n",
       "      <td>-0.0441</td>\n",
       "      <td>0.134</td>\n",
       "      <td>0.021353</td>\n",
       "      <td>-0.1462</td>\n",
       "      <td>-0.1461</td>\n",
       "      <td>-0.2011</td>\n",
       "      <td>-0.4251</td>\n",
       "      <td>-0.3857</td>\n",
       "      <td>-0.4077</td>\n",
       "      <td>0.0831</td>\n",
       "    </tr>\n",
       "    <tr>\n",
       "      <th>3</th>\n",
       "      <td>-0.087</td>\n",
       "      <td>9.88</td>\n",
       "      <td>0.0336</td>\n",
       "      <td>0.0189</td>\n",
       "      <td>0.0237</td>\n",
       "      <td>-0.0038</td>\n",
       "      <td>0.248</td>\n",
       "      <td>-0.004597</td>\n",
       "      <td>0.1583</td>\n",
       "      <td>0.3306</td>\n",
       "      <td>0.1436</td>\n",
       "      <td>1.6027</td>\n",
       "      <td>-0.3857</td>\n",
       "      <td>-0.8445</td>\n",
       "      <td>0.0831</td>\n",
       "    </tr>\n",
       "    <tr>\n",
       "      <th>4</th>\n",
       "      <td>-0.018</td>\n",
       "      <td>4.04</td>\n",
       "      <td>0.0711</td>\n",
       "      <td>-0.0013</td>\n",
       "      <td>0.0107</td>\n",
       "      <td>0.0733</td>\n",
       "      <td>-0.177</td>\n",
       "      <td>-0.002238</td>\n",
       "      <td>0.1180</td>\n",
       "      <td>0.3752</td>\n",
       "      <td>0.1169</td>\n",
       "      <td>0.9677</td>\n",
       "      <td>-0.3857</td>\n",
       "      <td>-1.0680</td>\n",
       "      <td>0.0831</td>\n",
       "    </tr>\n",
       "  </tbody>\n",
       "</table>\n",
       "</div>"
      ],
      "text/plain": [
       "    CRET  mcap      EP      BP      CP      SP     ES       RET     REP  \\\n",
       "0  0.011  5.43 -0.1806  0.0499 -0.0708  0.0051  0.608  0.022975 -1.9380   \n",
       "1  0.079  4.35 -0.0577 -0.0424 -0.0240 -0.0488  0.385 -0.004597 -0.0982   \n",
       "2 -0.093  9.24 -0.0043 -0.0445 -0.0246 -0.0441  0.134  0.021353 -0.1462   \n",
       "3 -0.087  9.88  0.0336  0.0189  0.0237 -0.0038  0.248 -0.004597  0.1583   \n",
       "4 -0.018  4.04  0.0711 -0.0013  0.0107  0.0733 -0.177 -0.002238  0.1180   \n",
       "\n",
       "      RBP     RCP     RSP    CTEF     PM1     BR2  \n",
       "0 -0.0626 -0.2307 -0.4962 -0.3857  1.7010  0.0831  \n",
       "1  0.0016 -0.0670 -0.1363 -0.3857  0.8866  0.0831  \n",
       "2 -0.1461 -0.2011 -0.4251 -0.3857 -0.4077  0.0831  \n",
       "3  0.3306  0.1436  1.6027 -0.3857 -0.8445  0.0831  \n",
       "4  0.3752  0.1169  0.9677 -0.3857 -1.0680  0.0831  "
      ]
     },
     "execution_count": 76,
     "metadata": {
      "tags": []
     },
     "output_type": "execute_result"
    }
   ],
   "source": [
    "data_train.head()"
   ]
  },
  {
   "cell_type": "code",
   "execution_count": 0,
   "metadata": {
    "colab": {
     "base_uri": "https://localhost:8080/",
     "height": 34
    },
    "colab_type": "code",
    "executionInfo": {
     "elapsed": 2312,
     "status": "ok",
     "timestamp": 1545400533154,
     "user": {
      "displayName": "Hardik Maheshwari",
      "photoUrl": "https://lh3.googleusercontent.com/-Y-Bk9UtFi3o/AAAAAAAAAAI/AAAAAAAAAUI/0UFwmsBma5Q/s64/photo.jpg",
      "userId": "13286134525565054597"
     },
     "user_tz": -330
    },
    "id": "cwnU07tkRyb-",
    "outputId": "cbca6b49-13b5-49a2-e25c-3caf95d65c17"
   },
   "outputs": [
    {
     "data": {
      "text/plain": [
       "(95918, 15)"
      ]
     },
     "execution_count": 77,
     "metadata": {
      "tags": []
     },
     "output_type": "execute_result"
    }
   ],
   "source": [
    "data_train.shape"
   ]
  },
  {
   "cell_type": "code",
   "execution_count": 0,
   "metadata": {
    "colab": {
     "base_uri": "https://localhost:8080/",
     "height": 364
    },
    "colab_type": "code",
    "executionInfo": {
     "elapsed": 3374,
     "status": "ok",
     "timestamp": 1545400539016,
     "user": {
      "displayName": "Hardik Maheshwari",
      "photoUrl": "https://lh3.googleusercontent.com/-Y-Bk9UtFi3o/AAAAAAAAAAI/AAAAAAAAAUI/0UFwmsBma5Q/s64/photo.jpg",
      "userId": "13286134525565054597"
     },
     "user_tz": -330
    },
    "id": "KMP7bDmPSHR_",
    "outputId": "c380b6be-dfe6-4d5a-f2d7-7993abe59e2c"
   },
   "outputs": [
    {
     "data": {
      "text/plain": [
       "<matplotlib.axes._subplots.AxesSubplot at 0x7f161ca24f98>"
      ]
     },
     "execution_count": 78,
     "metadata": {
      "tags": []
     },
     "output_type": "execute_result"
    },
    {
     "data": {
      "image/png": "[encoded data removed]",
      "text/plain": [
       "<matplotlib.figure.Figure at 0x7f161c9ff400>"
      ]
     },
     "metadata": {
      "tags": []
     },
     "output_type": "display_data"
    }
   ],
   "source": [
    "import seaborn as sns\n",
    "cormat = data_train.corr()\n",
    "sns.heatmap(cormat)\n"
   ]
  },
  {
   "cell_type": "code",
   "execution_count": 0,
   "metadata": {
    "colab": {},
    "colab_type": "code",
    "collapsed": true,
    "id": "NCopICcZXYMb"
   },
   "outputs": [],
   "source": [
    "from sklearn.model_selection import train_test_split"
   ]
  },
  {
   "cell_type": "code",
   "execution_count": 0,
   "metadata": {
    "colab": {},
    "colab_type": "code",
    "collapsed": true,
    "id": "k3abY_ICYVIF"
   },
   "outputs": [],
   "source": [
    "train, test = train_test_split(data_train, test_size=0.2)"
   ]
  },
  {
   "cell_type": "code",
   "execution_count": 0,
   "metadata": {
    "colab": {
     "base_uri": "https://localhost:8080/",
     "height": 34
    },
    "colab_type": "code",
    "executionInfo": {
     "elapsed": 2859,
     "status": "ok",
     "timestamp": 1545391776699,
     "user": {
      "displayName": "Hardik Maheshwari",
      "photoUrl": "https://lh3.googleusercontent.com/-Y-Bk9UtFi3o/AAAAAAAAAAI/AAAAAAAAAUI/0UFwmsBma5Q/s64/photo.jpg",
      "userId": "13286134525565054597"
     },
     "user_tz": -330
    },
    "id": "0Pjv06BLYiA2",
    "outputId": "98f0a1e9-6e0c-4f69-b1fc-4e82e6c59d05"
   },
   "outputs": [
    {
     "data": {
      "text/plain": [
       "(19184, 18)"
      ]
     },
     "execution_count": 11,
     "metadata": {
      "tags": []
     },
     "output_type": "execute_result"
    }
   ],
   "source": [
    "test.shape"
   ]
  },
  {
   "cell_type": "code",
   "execution_count": 0,
   "metadata": {
    "colab": {
     "base_uri": "https://localhost:8080/",
     "height": 195
    },
    "colab_type": "code",
    "executionInfo": {
     "elapsed": 2373,
     "status": "ok",
     "timestamp": 1545391781385,
     "user": {
      "displayName": "Hardik Maheshwari",
      "photoUrl": "https://lh3.googleusercontent.com/-Y-Bk9UtFi3o/AAAAAAAAAAI/AAAAAAAAAUI/0UFwmsBma5Q/s64/photo.jpg",
      "userId": "13286134525565054597"
     },
     "user_tz": -330
    },
    "id": "xjGVAyUSYjsn",
    "outputId": "2706c9e6-75f2-445f-b856-7216fb9d0405"
   },
   "outputs": [
    {
     "data": {
      "text/html": [
       "<div>\n",
       "<style scoped>\n",
       "    .dataframe tbody tr th:only-of-type {\n",
       "        vertical-align: middle;\n",
       "    }\n",
       "\n",
       "    .dataframe tbody tr th {\n",
       "        vertical-align: top;\n",
       "    }\n",
       "\n",
       "    .dataframe thead th {\n",
       "        text-align: right;\n",
       "    }\n",
       "</style>\n",
       "<table border=\"1\" class=\"dataframe\">\n",
       "  <thead>\n",
       "    <tr style=\"text-align: right;\">\n",
       "      <th></th>\n",
       "      <th>CRET</th>\n",
       "      <th>mcap</th>\n",
       "      <th>EP</th>\n",
       "      <th>BP</th>\n",
       "      <th>CP</th>\n",
       "      <th>SP</th>\n",
       "      <th>ES</th>\n",
       "      <th>RET</th>\n",
       "      <th>REP</th>\n",
       "      <th>RBP</th>\n",
       "      <th>RCP</th>\n",
       "      <th>RSP</th>\n",
       "      <th>CTEF</th>\n",
       "      <th>PM1</th>\n",
       "      <th>BR2</th>\n",
       "      <th>VOL</th>\n",
       "      <th>TOT</th>\n",
       "      <th>MRV1</th>\n",
       "    </tr>\n",
       "  </thead>\n",
       "  <tbody>\n",
       "    <tr>\n",
       "      <th>77342</th>\n",
       "      <td>0.173</td>\n",
       "      <td>4.10</td>\n",
       "      <td>0.0380</td>\n",
       "      <td>-0.0541</td>\n",
       "      <td>-0.0084</td>\n",
       "      <td>-0.0715</td>\n",
       "      <td>0.002</td>\n",
       "      <td>0.011638</td>\n",
       "      <td>0.0037</td>\n",
       "      <td>-0.0738</td>\n",
       "      <td>0.3633</td>\n",
       "      <td>-0.2402</td>\n",
       "      <td>1.4927</td>\n",
       "      <td>0.5422</td>\n",
       "      <td>0.1620</td>\n",
       "      <td>150</td>\n",
       "      <td>2</td>\n",
       "      <td>1.9552</td>\n",
       "    </tr>\n",
       "    <tr>\n",
       "      <th>38436</th>\n",
       "      <td>0.103</td>\n",
       "      <td>9.00</td>\n",
       "      <td>0.0287</td>\n",
       "      <td>-0.0640</td>\n",
       "      <td>-0.0329</td>\n",
       "      <td>-0.0478</td>\n",
       "      <td>-0.077</td>\n",
       "      <td>0.000433</td>\n",
       "      <td>0.0813</td>\n",
       "      <td>-0.0314</td>\n",
       "      <td>0.0619</td>\n",
       "      <td>-0.0739</td>\n",
       "      <td>0.0266</td>\n",
       "      <td>0.0293</td>\n",
       "      <td>-0.0531</td>\n",
       "      <td>51</td>\n",
       "      <td>7</td>\n",
       "      <td>-0.0484</td>\n",
       "    </tr>\n",
       "    <tr>\n",
       "      <th>57377</th>\n",
       "      <td>-0.230</td>\n",
       "      <td>0.13</td>\n",
       "      <td>-0.0186</td>\n",
       "      <td>-0.0312</td>\n",
       "      <td>-0.0268</td>\n",
       "      <td>-0.0687</td>\n",
       "      <td>-0.045</td>\n",
       "      <td>-0.002749</td>\n",
       "      <td>-0.0401</td>\n",
       "      <td>0.5430</td>\n",
       "      <td>-0.1172</td>\n",
       "      <td>-0.1400</td>\n",
       "      <td>-0.5828</td>\n",
       "      <td>1.7132</td>\n",
       "      <td>-0.0054</td>\n",
       "      <td>657</td>\n",
       "      <td>6</td>\n",
       "      <td>0.0159</td>\n",
       "    </tr>\n",
       "    <tr>\n",
       "      <th>54885</th>\n",
       "      <td>-0.191</td>\n",
       "      <td>5.26</td>\n",
       "      <td>-0.1505</td>\n",
       "      <td>-0.0058</td>\n",
       "      <td>-0.0725</td>\n",
       "      <td>-0.0283</td>\n",
       "      <td>1.116</td>\n",
       "      <td>0.012568</td>\n",
       "      <td>-0.0776</td>\n",
       "      <td>0.8469</td>\n",
       "      <td>-0.0647</td>\n",
       "      <td>1.3724</td>\n",
       "      <td>0.2295</td>\n",
       "      <td>0.6914</td>\n",
       "      <td>-0.0632</td>\n",
       "      <td>45</td>\n",
       "      <td>3</td>\n",
       "      <td>-1.6020</td>\n",
       "    </tr>\n",
       "    <tr>\n",
       "      <th>54282</th>\n",
       "      <td>0.143</td>\n",
       "      <td>2.45</td>\n",
       "      <td>-0.0099</td>\n",
       "      <td>-0.0575</td>\n",
       "      <td>-0.0365</td>\n",
       "      <td>-0.0512</td>\n",
       "      <td>0.000</td>\n",
       "      <td>-0.011490</td>\n",
       "      <td>0.2261</td>\n",
       "      <td>-0.3633</td>\n",
       "      <td>0.0656</td>\n",
       "      <td>-0.5605</td>\n",
       "      <td>0.2669</td>\n",
       "      <td>1.5086</td>\n",
       "      <td>0.0879</td>\n",
       "      <td>818</td>\n",
       "      <td>3</td>\n",
       "      <td>-0.1051</td>\n",
       "    </tr>\n",
       "  </tbody>\n",
       "</table>\n",
       "</div>"
      ],
      "text/plain": [
       "        CRET  mcap      EP      BP      CP      SP     ES       RET     REP  \\\n",
       "77342  0.173  4.10  0.0380 -0.0541 -0.0084 -0.0715  0.002  0.011638  0.0037   \n",
       "38436  0.103  9.00  0.0287 -0.0640 -0.0329 -0.0478 -0.077  0.000433  0.0813   \n",
       "57377 -0.230  0.13 -0.0186 -0.0312 -0.0268 -0.0687 -0.045 -0.002749 -0.0401   \n",
       "54885 -0.191  5.26 -0.1505 -0.0058 -0.0725 -0.0283  1.116  0.012568 -0.0776   \n",
       "54282  0.143  2.45 -0.0099 -0.0575 -0.0365 -0.0512  0.000 -0.011490  0.2261   \n",
       "\n",
       "          RBP     RCP     RSP    CTEF     PM1     BR2  VOL  TOT    MRV1  \n",
       "77342 -0.0738  0.3633 -0.2402  1.4927  0.5422  0.1620  150    2  1.9552  \n",
       "38436 -0.0314  0.0619 -0.0739  0.0266  0.0293 -0.0531   51    7 -0.0484  \n",
       "57377  0.5430 -0.1172 -0.1400 -0.5828  1.7132 -0.0054  657    6  0.0159  \n",
       "54885  0.8469 -0.0647  1.3724  0.2295  0.6914 -0.0632   45    3 -1.6020  \n",
       "54282 -0.3633  0.0656 -0.5605  0.2669  1.5086  0.0879  818    3 -0.1051  "
      ]
     },
     "execution_count": 12,
     "metadata": {
      "tags": []
     },
     "output_type": "execute_result"
    }
   ],
   "source": [
    "test.head()"
   ]
  },
  {
   "cell_type": "code",
   "execution_count": 0,
   "metadata": {
    "colab": {},
    "colab_type": "code",
    "collapsed": true,
    "id": "2WyQhj2hYmLz"
   },
   "outputs": [],
   "source": [
    "from keras.models import Sequential\n",
    "from keras.layers import Dense\n",
    "from keras.wrappers.scikit_learn import KerasRegressor\n",
    "from keras.optimizers import Adam\n",
    "\n",
    "def neuralnetwork():\n",
    "    model = Sequential()\n",
    "#     model.add(Dense(32, input_dim=14, kernel_initializer='normal', activation='relu'))\n",
    "#     model.add(Dense(16, kernel_initializer='normal', activation='relu'))\n",
    "#     model.add(Dense(8, kernel_initializer='normal', activation='relu'))\n",
    "#     model.add(Dense(1, kernel_initializer='normal', activation='linear'))\n",
    "#     model = Sequential()\n",
    "    model.add(Dense(32, input_dim=14, kernel_initializer='normal', activation='relu'))\n",
    "    model.add(Dense(16, kernel_initializer='normal', activation='relu'))\n",
    "    model.add(Dense(8, activation='relu'))\n",
    "    model.add(Dense(1, activation='linear'))\n",
    "    \n",
    "#     model_mc = Sequential()\n",
    "\n",
    "# #add model layers\n",
    "#     model_mc.add(Dense(200, activation='relu', input_dim=14))\n",
    "#     model_mc.add(Dense(200, activation='relu'))\n",
    "#     model_mc.add(Dense(200, activation='relu'))\n",
    "#     model_mc.add(Dense(1, activation='linear'))\n",
    "    model.compile(loss='mse', optimizer=Adam(lr=0.00001), metrics=['mse','mae'])\n",
    "\n",
    "    # Compile model\n",
    "    return model"
   ]
  },
  {
   "cell_type": "code",
   "execution_count": 0,
   "metadata": {
    "colab": {},
    "colab_type": "code",
    "collapsed": true,
    "id": "wjjegIYSatQM"
   },
   "outputs": [],
   "source": [
    "\n",
    "import numpy as np"
   ]
  },
  {
   "cell_type": "code",
   "execution_count": 0,
   "metadata": {
    "colab": {},
    "colab_type": "code",
    "collapsed": true,
    "id": "FHU4js3ma3xD"
   },
   "outputs": [],
   "source": [
    "dataset=np.loadtxt(\"drive/colab/data.csv\", delimiter=\",\", skiprows=1)\n",
    "from sklearn.preprocessing import MinMaxScaler\n",
    "from sklearn.model_selection import train_test_split\n"
   ]
  },
  {
   "cell_type": "code",
   "execution_count": 0,
   "metadata": {
    "colab": {
     "base_uri": "https://localhost:8080/",
     "height": 50
    },
    "colab_type": "code",
    "executionInfo": {
     "elapsed": 3296,
     "status": "ok",
     "timestamp": 1545400826305,
     "user": {
      "displayName": "Hardik Maheshwari",
      "photoUrl": "https://lh3.googleusercontent.com/-Y-Bk9UtFi3o/AAAAAAAAAAI/AAAAAAAAAUI/0UFwmsBma5Q/s64/photo.jpg",
      "userId": "13286134525565054597"
     },
     "user_tz": -330
    },
    "id": "N4dH4rjpl4ty",
    "outputId": "c08bd95a-df2a-42d4-ecfd-d05ca8b27046"
   },
   "outputs": [
    {
     "name": "stdout",
     "output_type": "stream",
     "text": [
      "MinMaxScaler(copy=True, feature_range=(0, 1))\n",
      "MinMaxScaler(copy=True, feature_range=(0, 1))\n"
     ]
    }
   ],
   "source": [
    "\n",
    "model = neuralnetwork()\n",
    "x=dataset[:,2:dataset.shape[1]-3]\n",
    "y=dataset[:,1]\n",
    "y = np.reshape(y, (-1, 1))\n",
    "scaler = MinMaxScaler()\n",
    "\n",
    "X_train, X_test, y_train, y_test = train_test_split(x, y)\n",
    "print(scaler.fit(x))\n",
    "print(scaler.fit(y))\n",
    "xscale=scaler.transform(X_train)\n",
    "yscale=scaler.transform(y_train)"
   ]
  },
  {
   "cell_type": "code",
   "execution_count": 0,
   "metadata": {
    "colab": {},
    "colab_type": "code",
    "collapsed": true,
    "id": "PWnqNpKkmInm"
   },
   "outputs": [],
   "source": []
  },
  {
   "cell_type": "code",
   "execution_count": 0,
   "metadata": {
    "colab": {
     "base_uri": "https://localhost:8080/",
     "height": 121
    },
    "colab_type": "code",
    "executionInfo": {
     "elapsed": 75645,
     "status": "ok",
     "timestamp": 1545377891355,
     "user": {
      "displayName": "Hardik Maheshwari",
      "photoUrl": "https://lh3.googleusercontent.com/-Y-Bk9UtFi3o/AAAAAAAAAAI/AAAAAAAAAUI/0UFwmsBma5Q/s64/photo.jpg",
      "userId": "13286134525565054597"
     },
     "user_tz": -330
    },
    "id": "qWsaN_7mnLWs",
    "outputId": "ed28c52c-35fc-41e8-cd58-9c11a3bbf3b1"
   },
   "outputs": [
    {
     "name": "stdout",
     "output_type": "stream",
     "text": [
      "Train on 57550 samples, validate on 14388 samples\n",
      "Epoch 1/10\n",
      "57550/57550 [==============================] - 4s 74us/step - loss: 0.0373 - mean_squared_error: 0.0373 - mean_absolute_error: 0.1212 - val_loss: 0.0336 - val_mean_squared_error: 0.0336 - val_mean_absolute_error: 0.1168\n",
      "Epoch 2/10\n",
      "21100/57550 [=========>....................] - ETA: 2s - loss: 0.0372 - mean_squared_error: 0.0372 - mean_absolute_error: 0.1202"
     ]
    }
   ],
   "source": [
    "history = model.fit(X_train, y_train, epochs=10, batch_size=100,  verbose=1, validation_split=0.2)"
   ]
  },
  {
   "cell_type": "code",
   "execution_count": 0,
   "metadata": {
    "colab": {},
    "colab_type": "code",
    "collapsed": true,
    "id": "G7u-q-bdnSgx"
   },
   "outputs": [],
   "source": [
    "import matplotlib.pyplot as plt\n"
   ]
  },
  {
   "cell_type": "code",
   "execution_count": 0,
   "metadata": {
    "colab": {
     "base_uri": "https://localhost:8080/",
     "height": 393
    },
    "colab_type": "code",
    "executionInfo": {
     "elapsed": 2205,
     "status": "ok",
     "timestamp": 1545399918861,
     "user": {
      "displayName": "Hardik Maheshwari",
      "photoUrl": "https://lh3.googleusercontent.com/-Y-Bk9UtFi3o/AAAAAAAAAAI/AAAAAAAAAUI/0UFwmsBma5Q/s64/photo.jpg",
      "userId": "13286134525565054597"
     },
     "user_tz": -330
    },
    "id": "OCWH3dAdplGD",
    "outputId": "b9a50f29-3881-4e96-9395-a60e247863dd"
   },
   "outputs": [
    {
     "name": "stdout",
     "output_type": "stream",
     "text": [
      "dict_keys(['val_loss', 'val_mean_squared_error', 'val_mean_absolute_error', 'loss', 'mean_squared_error', 'mean_absolute_error'])\n"
     ]
    },
    {
     "data": {
      "image/png": "[encoded data removed]",
      "text/plain": [
       "<matplotlib.figure.Figure at 0x7f161ca96160>"
      ]
     },
     "metadata": {
      "tags": []
     },
     "output_type": "display_data"
    }
   ],
   "source": [
    "print(history.history.keys())\n",
    "# \"Loss\"\n",
    "plt.plot(history.history['loss'])\n",
    "plt.plot(history.history['val_loss'])\n",
    "plt.title('model loss')\n",
    "plt.ylabel('loss')\n",
    "plt.xlabel('epoch')\n",
    "plt.legend(['train', 'validation'], loc='upper left')\n",
    "plt.show()"
   ]
  },
  {
   "cell_type": "code",
   "execution_count": 0,
   "metadata": {
    "colab": {
     "base_uri": "https://localhost:8080/",
     "height": 1697
    },
    "colab_type": "code",
    "executionInfo": {
     "elapsed": 3767,
     "status": "ok",
     "timestamp": 1545399925956,
     "user": {
      "displayName": "Hardik Maheshwari",
      "photoUrl": "https://lh3.googleusercontent.com/-Y-Bk9UtFi3o/AAAAAAAAAAI/AAAAAAAAAUI/0UFwmsBma5Q/s64/photo.jpg",
      "userId": "13286134525565054597"
     },
     "user_tz": -330
    },
    "id": "09If4OLopl_D",
    "outputId": "9f99adaf-3767-4e53-fae1-6507f33fced9"
   },
   "outputs": [
    {
     "name": "stdout",
     "output_type": "stream",
     "text": [
      "[-0.077] [0.01710157]\n",
      "[-0.027] [0.0169938]\n",
      "[0.062] [0.03561109]\n",
      "[0.] [0.0117168]\n",
      "[0.013] [0.0016103]\n",
      "[0.167] [0.00761833]\n",
      "[-0.089] [0.01342383]\n",
      "[-0.045] [0.00773724]\n",
      "[-0.071] [-0.00147348]\n",
      "[0.26] [0.01334237]\n",
      "[-0.028] [0.01903375]\n",
      "[0.015] [0.07001611]\n",
      "[0.119] [0.01120279]\n",
      "[0.] [0.03877894]\n",
      "[0.058] [0.00935899]\n",
      "[0.055] [-0.00670133]\n",
      "[-0.014] [0.01586755]\n",
      "[0.169] [0.02461322]\n",
      "[-0.05] [0.00673024]\n",
      "[-0.11] [0.01967352]\n",
      "[0.176] [0.03541194]\n",
      "[0.029] [0.01817445]\n",
      "[0.155] [0.02116902]\n",
      "[-0.025] [0.03262581]\n",
      "[0.141] [0.0490607]\n",
      "[0.104] [0.00805785]\n",
      "[-0.05] [0.06112406]\n",
      "[-0.192] [0.02886252]\n",
      "[0.167] [0.03086103]\n",
      "[0.011] [-0.00280147]\n",
      "[-0.136] [0.00814959]\n",
      "[0.13] [0.03332881]\n",
      "[-0.131] [0.02766147]\n",
      "[0.022] [0.01324556]\n",
      "[-0.137] [-0.00454156]\n",
      "[0.327] [0.00382843]\n",
      "[0.191] [0.00463362]\n",
      "[0.028] [0.02454488]\n",
      "[0.127] [0.01266862]\n",
      "[0.31] [0.04308737]\n",
      "[0.025] [0.02094213]\n",
      "[0.119] [0.04646975]\n",
      "[0.021] [0.01197474]\n",
      "[0.024] [0.01111109]\n",
      "[-0.125] [0.03525243]\n",
      "[0.005] [0.00699853]\n",
      "[-0.125] [0.01814158]\n",
      "[0.095] [0.01352145]\n",
      "[0.136] [0.02835402]\n",
      "[0.084] [0.01882804]\n",
      "[-0.02] [0.01999629]\n",
      "[-0.086] [0.00906306]\n",
      "[-0.054] [0.01693927]\n",
      "[-0.021] [0.00364717]\n",
      "[-0.087] [0.01174298]\n",
      "[-0.127] [0.01789279]\n",
      "[-0.099] [0.02158673]\n",
      "[0.014] [0.00723918]\n",
      "[-0.025] [0.01527261]\n",
      "[-0.143] [0.01297094]\n",
      "[-0.053] [0.02020909]\n",
      "[-0.011] [-0.00143728]\n",
      "[-0.036] [0.02075593]\n",
      "[0.125] [0.01135642]\n",
      "[0.005] [0.02081462]\n",
      "[-0.049] [0.0250205]\n",
      "[0.002] [0.00616812]\n",
      "[-0.044] [0.06365099]\n",
      "[0.297] [0.01379717]\n",
      "[-0.1] [0.0304652]\n",
      "[0.019] [-0.00698104]\n",
      "[-0.201] [0.0163073]\n",
      "[-0.004] [-0.00322428]\n",
      "[0.113] [0.01832438]\n",
      "[-0.107] [0.03253493]\n",
      "[0.089] [0.01193115]\n",
      "[-0.222] [0.02213142]\n",
      "[0.081] [0.02014199]\n",
      "[-0.011] [0.01467969]\n",
      "[-0.055] [0.00393395]\n",
      "[0.374] [0.02070935]\n",
      "[0.154] [0.01831673]\n",
      "[-0.086] [0.0021212]\n",
      "[-0.083] [0.00881028]\n",
      "[-0.045] [0.0017829]\n",
      "[-0.041] [0.02281582]\n",
      "[0.029] [0.01775262]\n",
      "[-0.054] [-0.00187299]\n",
      "[0.2] [0.02332334]\n",
      "[-0.296] [0.00292875]\n",
      "[-0.083] [0.00317469]\n",
      "[0.] [0.00335729]\n",
      "[0.002] [-0.00235203]\n",
      "[0.021] [0.03632464]\n",
      "[0.036] [0.00383579]\n",
      "[0.047] [0.01974853]\n",
      "[-0.223] [0.024538]\n",
      "[0.201] [0.04391263]\n",
      "[-0.028] [0.00751398]\n",
      "[0.009] [0.02142157]\n"
     ]
    }
   ],
   "source": [
    "y_pred= model.predict(X_test)\n",
    "for i in range(100):\n",
    "  print(y_test[i], y_pred[i])\n"
   ]
  },
  {
   "cell_type": "code",
   "execution_count": 0,
   "metadata": {
    "colab": {
     "base_uri": "https://localhost:8080/",
     "height": 34
    },
    "colab_type": "code",
    "executionInfo": {
     "elapsed": 1281,
     "status": "ok",
     "timestamp": 1545398400573,
     "user": {
      "displayName": "Hardik Maheshwari",
      "photoUrl": "https://lh3.googleusercontent.com/-Y-Bk9UtFi3o/AAAAAAAAAAI/AAAAAAAAAUI/0UFwmsBma5Q/s64/photo.jpg",
      "userId": "13286134525565054597"
     },
     "user_tz": -330
    },
    "id": "wcSCWf-0qGFc",
    "outputId": "5916f8de-644e-4f3e-af61-855464b7cb61"
   },
   "outputs": [
    {
     "data": {
      "text/plain": [
       "0.05417598516627313"
      ]
     },
     "execution_count": 17,
     "metadata": {
      "tags": []
     },
     "output_type": "execute_result"
    }
   ],
   "source": [
    "(((=y_test - y_pred))**2).mean()"
   ]
  },
  {
   "cell_type": "code",
   "execution_count": 0,
   "metadata": {
    "colab": {},
    "colab_type": "code",
    "collapsed": true,
    "id": "8640K_teqI7p"
   },
   "outputs": [],
   "source": [
    "from sklearn.ensemble import RandomForestRegressor"
   ]
  },
  {
   "cell_type": "code",
   "execution_count": 0,
   "metadata": {
    "colab": {
     "base_uri": "https://localhost:8080/",
     "height": 118
    },
    "colab_type": "code",
    "executionInfo": {
     "elapsed": 15102,
     "status": "ok",
     "timestamp": 1545391475399,
     "user": {
      "displayName": "Hardik Maheshwari",
      "photoUrl": "https://lh3.googleusercontent.com/-Y-Bk9UtFi3o/AAAAAAAAAAI/AAAAAAAAAUI/0UFwmsBma5Q/s64/photo.jpg",
      "userId": "13286134525565054597"
     },
     "user_tz": -330
    },
    "id": "Yo_8yil4J9Mt",
    "outputId": "c44668a8-b571-402e-8efa-b48ca7ba0c9d"
   },
   "outputs": [
    {
     "data": {
      "text/plain": [
       "RandomForestRegressor(bootstrap=True, criterion='mse', max_depth=2,\n",
       "           max_features='auto', max_leaf_nodes=None,\n",
       "           min_impurity_decrease=0.0, min_impurity_split=None,\n",
       "           min_samples_leaf=1, min_samples_split=2,\n",
       "           min_weight_fraction_leaf=0.0, n_estimators=100, n_jobs=None,\n",
       "           oob_score=False, random_state=0, verbose=0, warm_start=False)"
      ]
     },
     "execution_count": 215,
     "metadata": {
      "tags": []
     },
     "output_type": "execute_result"
    }
   ],
   "source": [
    "regr = RandomForestRegressor(max_depth=2, random_state=0,\n",
    "                              n_estimators=100)\n",
    "regr.fit(X_train, y_train)"
   ]
  },
  {
   "cell_type": "code",
   "execution_count": 0,
   "metadata": {
    "colab": {},
    "colab_type": "code",
    "collapsed": true,
    "id": "_KyrqdCbKM81"
   },
   "outputs": [],
   "source": [
    "y_pred = regr.predict(X_test)"
   ]
  },
  {
   "cell_type": "code",
   "execution_count": 0,
   "metadata": {
    "colab": {},
    "colab_type": "code",
    "collapsed": true,
    "id": "dgSH32WuKsHZ"
   },
   "outputs": [],
   "source": [
    "import matplotlib.pyplot as plt\n",
    "\n",
    "X_plot = np.arange(len(y_test))"
   ]
  },
  {
   "cell_type": "code",
   "execution_count": 0,
   "metadata": {
    "colab": {
     "base_uri": "https://localhost:8080/",
     "height": 195
    },
    "colab_type": "code",
    "executionInfo": {
     "elapsed": 2545,
     "status": "error",
     "timestamp": 1545391730387,
     "user": {
      "displayName": "Hardik Maheshwari",
      "photoUrl": "https://lh3.googleusercontent.com/-Y-Bk9UtFi3o/AAAAAAAAAAI/AAAAAAAAAUI/0UFwmsBma5Q/s64/photo.jpg",
      "userId": "13286134525565054597"
     },
     "user_tz": -330
    },
    "id": "_kGggHj9L3wh",
    "outputId": "4d12b26e-f499-4baf-aee0-e8ebd3045848"
   },
   "outputs": [
    {
     "ename": "NameError",
     "evalue": "ignored",
     "output_type": "error",
     "traceback": [
      "\u001b[0;31m---------------------------------------------------------------------------\u001b[0m",
      "\u001b[0;31mNameError\u001b[0m                                 Traceback (most recent call last)",
      "\u001b[0;32m<ipython-input-1-db026a3eaf02>\u001b[0m in \u001b[0;36m<module>\u001b[0;34m()\u001b[0m\n\u001b[1;32m      1\u001b[0m \u001b[0;32mfrom\u001b[0m \u001b[0msklearn\u001b[0m\u001b[0;34m.\u001b[0m\u001b[0msvm\u001b[0m \u001b[0;32mimport\u001b[0m \u001b[0mSVR\u001b[0m\u001b[0;34m\u001b[0m\u001b[0;34m\u001b[0m\u001b[0m\n\u001b[1;32m      2\u001b[0m \u001b[0mclf\u001b[0m \u001b[0;34m=\u001b[0m \u001b[0mSVR\u001b[0m\u001b[0;34m(\u001b[0m\u001b[0mgamma\u001b[0m\u001b[0;34m=\u001b[0m\u001b[0;34m'rbf'\u001b[0m\u001b[0;34m,\u001b[0m \u001b[0mC\u001b[0m\u001b[0;34m=\u001b[0m\u001b[0;36m1.0\u001b[0m\u001b[0;34m,\u001b[0m \u001b[0mepsilon\u001b[0m\u001b[0;34m=\u001b[0m\u001b[0;36m0.2\u001b[0m\u001b[0;34m)\u001b[0m\u001b[0;34m\u001b[0m\u001b[0;34m\u001b[0m\u001b[0m\n\u001b[0;32m----> 3\u001b[0;31m \u001b[0mclf\u001b[0m\u001b[0;34m.\u001b[0m\u001b[0mfit\u001b[0m\u001b[0;34m(\u001b[0m\u001b[0mX_train\u001b[0m\u001b[0;34m,\u001b[0m \u001b[0my_train\u001b[0m\u001b[0;34m)\u001b[0m\u001b[0;34m\u001b[0m\u001b[0;34m\u001b[0m\u001b[0m\n\u001b[0m",
      "\u001b[0;31mNameError\u001b[0m: name 'X_train' is not defined"
     ]
    }
   ],
   "source": [
    "from sklearn.svm import SVR\n",
    "clf = SVR(gamma='rbf', C=1.0, epsilon=0.2)\n",
    "clf.fit(X_train, y_train) "
   ]
  },
  {
   "cell_type": "code",
   "execution_count": 0,
   "metadata": {
    "colab": {},
    "colab_type": "code",
    "collapsed": true,
    "id": "lriw3GjMMihn"
   },
   "outputs": [],
   "source": [
    "clf.predict(X_test)"
   ]
  },
  {
   "cell_type": "code",
   "execution_count": 0,
   "metadata": {
    "colab": {},
    "colab_type": "code",
    "collapsed": true,
    "id": "gOwJTmZjM3DP"
   },
   "outputs": [],
   "source": []
  }
 ],
 "metadata": {
  "accelerator": "GPU",
  "colab": {
   "name": "mltrain.ipynb",
   "provenance": [],
   "version": "0.3.2"
  },
  "kernelspec": {
   "display_name": "Python 3",
   "language": "python",
   "name": "python3"
  },
  "language_info": {
   "codemirror_mode": {
    "name": "ipython",
    "version": 3
   },
   "file_extension": ".py",
   "mimetype": "text/x-python",
   "name": "python",
   "nbconvert_exporter": "python",
   "pygments_lexer": "ipython3",
   "version": "3.6.3"
  }
 },
 "nbformat": 4,
 "nbformat_minor": 1
}
